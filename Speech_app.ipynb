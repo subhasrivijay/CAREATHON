{
 "cells": [
  {
   "cell_type": "code",
   "execution_count": 28,
   "metadata": {},
   "outputs": [
    {
     "name": "stdout",
     "output_type": "stream",
     "text": [
      "WELCOME TO SPEECH TEXT CONVERTER \n",
      " S.NO       Options\n",
      "    1.                Text to Speech\n",
      "    2.                Speech to text\n",
      "    3.                Translator\n",
      "    4.                Exit\n"
     ]
    }
   ],
   "source": [
    "from gtts import gTTS\n",
    "import speech_recognition as speech\n",
    "from playsound import playsound\n",
    "import googletrans\n",
    "lang = googletrans.LANGUAGES\n",
    "switched_dict = {value: key for key, value in lang.items()}\n",
    "\n",
    "print('''WELCOME TO SPEECH TEXT CONVERTER ''')\n",
    "print(''' S.NO       Options\n",
    "    1.                Text to Speech\n",
    "    2.                Speech to text\n",
    "    3.                Translator\n",
    "    4.                Exit''')\n",
    "choice=int(input(\"Enter your choice   : \"))\n",
    "while choice==1:\n",
    "     l = input('''Enter the preferred language''')\n",
    "     l = l.lower()\n",
    "     language = switched_dict[l]\n",
    "     speech_to_text(language)\n",
    "     choice=int(input(\"Enter your choice  :  \"))\n",
    "while choice==2:\n",
    "     text_to_speech()\n",
    "     choice=int(input(\"Enter your choice   :   \"))\n",
    "while choice==3:\n",
    "     translation()\n",
    "     choice=int(input(\"Enter your choice   :   \"))\n",
    "while choice==4:\n",
    "     exit()\n",
    "     "
   ]
  },
  {
   "cell_type": "code",
   "execution_count": 32,
   "metadata": {},
   "outputs": [],
   "source": [
    "def text_to_speech(l):\n",
    "    mymessage=input(\"Enter your Message  : \")\n",
    "    language = l\n",
    "    output=gTTS(text=mymessage,lang=language,slow=False)\n",
    "    output.save(\"TEXT TO SPEECH.mp3\")\n",
    "    playsound('TEXT TO SPEECH.mp3')"
   ]
  },
  {
   "cell_type": "code",
   "execution_count": 33,
   "metadata": {},
   "outputs": [],
   "source": [
    "def speech_to_text():\n",
    "    recognise=speech.Recognizer()\n",
    "    with speech.Microphone() as source:\n",
    "        print(\"SAY SOMETHING AS SOON AS YOU ENTER....\")\n",
    "        print(\"Adjusting for background noise. One second\")\n",
    "        audio=recognise.listen(source)\n",
    "        try:\n",
    "            message=recognise.recognize_google(audio)\n",
    "            print(message)\n",
    "        except:\n",
    "            print(\"Could'nt get you\")"
   ]
  },
  {
   "cell_type": "code",
   "execution_count": 9,
   "metadata": {},
   "outputs": [],
   "source": [
    "from deep_translator import GoogleTranslator\n",
    "import googletrans\n",
    "def translation():\n",
    "    lang = googletrans.LANGUAGES\n",
    "    switched_dict = {value: key for key, value in lang.items()}\n",
    "    source_lang = input(\"Enter your source language: \")\n",
    "    s = source_lang.lower()\n",
    "    language_s = switched_dict[s]\n",
    "    translation_lang = input(\"Enter the language to be translated to: \")\n",
    "    t = translation_lang.lower()\n",
    "    language_t = switched_dict[t]\n",
    "    translator = GoogleTranslator(source=language_s, target=language_t)\n",
    "    message=input(\"Enter your Message  : \")\n",
    "    text_to_translate = translator.translate(message)\n",
    "    print(\"The message you entered : \",message)\n",
    "    print(\"The message in the translated language \",text_to_translate)\n",
    "    output=gTTS(text=text_to_translate,lang=language_t,slow=False)\n",
    "    output.save(\"TEXT TO SPEECH.mp3\")\n",
    "    playsound('TEXT TO SPEECH.mp3')"
   ]
  },
  {
   "cell_type": "code",
   "execution_count": 7,
   "metadata": {},
   "outputs": [
    {
     "name": "stdout",
     "output_type": "stream",
     "text": [
      "ஒரு கணினி அறிவியல் போர்டல்\n"
     ]
    }
   ],
   "source": [
    "translation()"
   ]
  }
 ],
 "metadata": {
  "kernelspec": {
   "display_name": "Python 3",
   "language": "python",
   "name": "python3"
  },
  "language_info": {
   "codemirror_mode": {
    "name": "ipython",
    "version": 3
   },
   "file_extension": ".py",
   "mimetype": "text/x-python",
   "name": "python",
   "nbconvert_exporter": "python",
   "pygments_lexer": "ipython3",
   "version": "3.11.5"
  }
 },
 "nbformat": 4,
 "nbformat_minor": 2
}
